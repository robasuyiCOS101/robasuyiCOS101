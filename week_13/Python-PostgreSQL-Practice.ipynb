{
 "cells": [
  {
   "cell_type": "markdown",
   "metadata": {},
   "source": [
    "# Python - PostgreSQL"
   ]
  },
  {
   "cell_type": "markdown",
   "metadata": {},
   "source": [
    "<ul><li>PostgreSQL can be integrated with Python using psycopg2 module.</li><li>psycopg2 is a PostgreSQL database adapter for the Python programming language.</li><li>psycopg2 was written with the aim of being very small and fast, and stable as a rock.</li><li> You do not need to install this module separately because it is shipped, by default, along with Python version 2.5.x onwards.</li></ul>"
   ]
  },
  {
   "cell_type": "markdown",
   "metadata": {},
   "source": [
    "# Python psycopg2 Module APIs\n",
    "\n",
    "If you do not have it installed on your machine then you can use the command to install it as follows:"
   ]
  },
  {
   "cell_type": "code",
   "execution_count": null,
   "metadata": {},
   "outputs": [],
   "source": [
    "pip install psycopg2"
   ]
  },
  {
   "cell_type": "markdown",
   "metadata": {},
   "source": [
    "If the above command causes an error then use the command:"
   ]
  },
  {
   "cell_type": "code",
   "execution_count": null,
   "metadata": {},
   "outputs": [],
   "source": [
    "pip install psycopg2-binary"
   ]
  },
  {
   "cell_type": "markdown",
   "metadata": {},
   "source": [
    "The following are important psycopg2 module routines:"
   ]
  },
  {
   "cell_type": "markdown",
   "metadata": {},
   "source": [
    "<table border=1 style=\"font-size:15px;\">\n",
    "    <tr>\n",
    "        <td width=200><b>APIs</b></td><td width=800><b>Description</b></td>\n",
    "    </tr>\n",
    "    <tr>\n",
    "        <td>psycopg2.connect()</td><td>This API opens a connection to the PostgreSQL database.</td>\n",
    "    </tr>\n",
    "     <tr>\n",
    "        <td>connection.cursor()</td><td>This routine creates a cursor which will be used throughout of your database programming with Python.</td>\n",
    "    </tr>\n",
    "    <tr>\n",
    "        <td>cursor.execute()</td><td>This routine executes an SQL statement. The SQL statement may be parameterized (i.e., placeholders instead of SQL literals).</td>\n",
    "    </tr>\n",
    "     <tr>\n",
    "        <td>connection.close()</td><td>DescriptionThis method closes the database connection.</td>\n",
    "    </tr>\n",
    "    <tr>\n",
    "        <td>cursor.fetchone()</td><td>This method fetches the next row of a query result set, returning a single sequence, or None when no more data is available.</td>\n",
    "    </tr>\n",
    "     <tr>\n",
    "        <td>cursor.fetchall()</td><td>This routine fetches all (remaining) rows of a query result, returning a list. An empty list is returned when no rows are available.</td>\n",
    "    </tr>\n",
    "    <tr>\n",
    "        <td>psycopg2.connect()</td><td>This API opens a connection to the PostgreSQL database.</td>\n",
    "    </tr>\n",
    "</table>"
   ]
  },
  {
   "cell_type": "markdown",
   "metadata": {},
   "source": [
    "# Connecting to a Database"
   ]
  },
  {
   "cell_type": "code",
   "execution_count": 2,
   "metadata": {},
   "outputs": [
    {
     "name": "stdout",
     "output_type": "stream",
     "text": [
      "Error connecting to PostgreSQL DB: could not translate host name \"localhosts\" to address: No such host is known. \n",
      "\n"
     ]
    }
   ],
   "source": [
    "import psycopg2\n",
    "\n",
    "# Database connection parameters\n",
    "host = \"your_host\"\n",
    "port = \"your_port\"\n",
    "dbname = \"your_database_name\"\n",
    "user = \"your_usernae\"\n",
    "password = \"your_password\"\n",
    "\n",
    "# Establish the connection\n",
    "try:\n",
    "    connections = psycopg2.connect(\n",
    "        host=host,\n",
    "        port=port,\n",
    "        dbname=dbname,\n",
    "        user=user,\n",
    "        password=password\n",
    "    )\n",
    "    print(\"Connection to PostgreSQL DB successful\")\n",
    "\n",
    "    # Create a cursor object\n",
    "    cursor = connection.cursor()\n",
    "\n",
    "    # Execute a SQL query\n",
    "    cursor.execute(\"SELECT version();\")\n",
    "    \n",
    "    # Fetch and print the result of the query\n",
    "    db_version = cursor.fetchone()\n",
    "    print(f\"PostgreSQL database version: {db_version}\")\n",
    "\n",
    "    # Close the cursor and connection\n",
    "    cursor.close()\n",
    "    connection.close()\n",
    "\n",
    "except Exception as error:\n",
    "    print(f\"Error connecting to PostgreSQL DB: {error}\")\n"
   ]
  },
  {
   "cell_type": "markdown",
   "metadata": {},
   "source": [
    "# Selecting existing Database"
   ]
  },
  {
   "cell_type": "code",
   "execution_count": 2,
   "metadata": {},
   "outputs": [
    {
     "name": "stdout",
     "output_type": "stream",
     "text": [
      "Error connecting to PostgreSQL DB: invalid integer value \"your_port\" for connection option \"port\"\n",
      "\n"
     ]
    }
   ],
   "source": [
    "import psycopg2\n",
    "\n",
    "# Database connection parameters\n",
    "host = \"your_host\"\n",
    "port = \"your_port\"\n",
    "dbname = \"your_database_name\"\n",
    "user = \"your_usernae\"\n",
    "password = \"your_password\"\n",
    "\n",
    "# Establish the connection\n",
    "try:\n",
    "    connection = psycopg2.connect(\n",
    "        host=host,\n",
    "        port=port,\n",
    "        dbname=dbname,\n",
    "        user=user,\n",
    "        password=password\n",
    "    )\n",
    "    print(\"Connection to PostgreSQL DB successful\")\n",
    "\n",
    "    # Create a cursor object\n",
    "    cursor = connection.cursor()\n",
    "\n",
    "    # Define the SQL SELECT query\n",
    "    select_query = \"SELECT  FROM company;\"\n",
    "\n",
    "    # Execute the query\n",
    "    cursor.execute(select_query)\n",
    "\n",
    "    # Fetch all rows from the executed query\n",
    "    data = cursor.fetchall()\n",
    "\n",
    "    print(\"column\", \" | \", \"column2\")\n",
    "    print(\"------------------------\")\n",
    "        \n",
    "    # Iterate through the rows and print them\n",
    "    for row in data:\n",
    "        print(f\"{row[0]}       |  {row[1]}\")\n",
    "\n",
    "    # Close the cursor and connection\n",
    "    cursor.close()\n",
    "    connection.close()\n",
    "\n",
    "except Exception as error:\n",
    "    print(f\"Error connecting to PostgreSQL DB: {error}\")\n"
   ]
  },
  {
   "cell_type": "markdown",
   "metadata": {},
   "source": [
    "# Create a new Database"
   ]
  },
  {
   "cell_type": "code",
   "execution_count": 6,
   "metadata": {},
   "outputs": [
    {
     "name": "stdout",
     "output_type": "stream",
     "text": [
      "Connection to PostgreSQL server successful\n",
      "Database 'cos102_db' created successfully\n"
     ]
    }
   ],
   "source": [
    "import psycopg2\n",
    "from psycopg2 import sql\n",
    "\n",
    "# Parameters to connect to the existing PostgreSQL server\n",
    "host = \"localhost\"\n",
    "port = \"5432\"\n",
    "dbname = \"postgres\"\n",
    "user = \"postgres\"\n",
    "password = \"cos101\"  # Connect to the default database\n",
    "\n",
    "# Name of the new database to be created\n",
    "new_dbname = \"cos102_db\"\n",
    "\n",
    "#try:\n",
    "# Connect to the PostgreSQL server\n",
    "connection = psycopg2.connect(\n",
    "    host=host,\n",
    "    port=port,\n",
    "    dbname=dbname,\n",
    "    user=user,\n",
    "    password=password\n",
    ")\n",
    "connection.autocommit = True  # Enable autocommit mode\n",
    "print(\"Connection to PostgreSQL server successful\")\n",
    "\n",
    "# Create a cursor object\n",
    "cursor = connection.cursor()\n",
    "\n",
    "# Define the SQL statement to create a new database\n",
    "create_db_query = sql.SQL(\"CREATE DATABASE {}\").format(sql.Identifier(new_dbname))\n",
    "\n",
    "# Execute the SQL statement\n",
    "cursor.execute(create_db_query)\n",
    "print(f\"Database '{new_dbname}' created successfully\")\n",
    "\n",
    "# Close the cursor and connection\n",
    "cursor.close()\n",
    "connection.close()\n",
    "\n",
    "#except Exception as error:\n",
    " #   print(f\"Error creating the database: {error}\")\n"
   ]
  },
  {
   "cell_type": "markdown",
   "metadata": {},
   "source": [
    "# Create a Table"
   ]
  },
  {
   "cell_type": "code",
   "execution_count": 6,
   "metadata": {},
   "outputs": [
    {
     "name": "stdout",
     "output_type": "stream",
     "text": [
      "Connection to PostgreSQL DB successful\n",
      "Table created successfully\n"
     ]
    }
   ],
   "source": [
    "import psycopg2\n",
    "\n",
    "# Database connection parameters\n",
    "host = \"localhost\"\n",
    "port = \"5432\"\n",
    "dbname = \"postgres\"\n",
    "user = \"postgres\"\n",
    "password = \"cos101\"\n",
    "\n",
    "try:\n",
    "    # Connect to the PostgreSQL database\n",
    "    connection = psycopg2.connect(\n",
    "        host=host,\n",
    "        port=port,\n",
    "        dbname=dbname,\n",
    "        user=user,\n",
    "        password=password\n",
    "    )\n",
    "    #connection.autocommit = True  # Enable autocommit mode\n",
    "    \n",
    "    print(\"Connection to PostgreSQL DB successful\")\n",
    "\n",
    "    # Create a cursor object\n",
    "    cursors = connection.cursor()\n",
    "\n",
    "    # Define the SQL statement to create a new table\n",
    "    create_table_query = \"\"\"\n",
    "    CREATE TABLE sst_info (\n",
    "        id SERIAL PRIMARY KEY,\n",
    "        name VARCHAR(50) NOT NULL,\n",
    "        age INT NOT NULL,\n",
    "        department VARCHAR NOT NULL,\n",
    "        password VARCHAR NOT NULL\n",
    "    );\n",
    "    \"\"\"\n",
    "\n",
    "    # Execute the SQL statement\n",
    "    cursor.execute(create_table_query)\n",
    "    print(\"Table created successfully\")\n",
    "\n",
    "    # Close the cursor and connection\n",
    "    cursor.close()\n",
    "    connection.close()\n",
    "\n",
    "except Exception as error:\n",
    "    print(f\"Error creating table: {error}\")\n"
   ]
  },
  {
   "cell_type": "markdown",
   "metadata": {},
   "source": [
    "# INSERT into Table"
   ]
  },
  {
   "cell_type": "code",
   "execution_count": 10,
   "metadata": {},
   "outputs": [
    {
     "name": "stdout",
     "output_type": "stream",
     "text": [
      "Connection to PostgreSQL DB successful\n",
      "Error inserting data: not all arguments converted during string formatting\n"
     ]
    }
   ],
   "source": [
    "import psycopg2\n",
    "\n",
    "# Database connection parameters\n",
    "host = \"localhost\"\n",
    "port = \"5432\"\n",
    "dbname = \"postgres\"\n",
    "user = \"postgres\"\n",
    "password = \"cos101\"\n",
    "\n",
    "try:\n",
    "    # Connect to the PostgreSQL database\n",
    "    connection = psycopg2.connect(\n",
    "        host=host,\n",
    "        port=port,\n",
    "        dbname=dbname,\n",
    "        user=user,\n",
    "        password=password\n",
    "    )\n",
    "    connection.autocommit = True  # Enable autocommit mode\n",
    "    print(\"Connection to PostgreSQL DB successful\")\n",
    "\n",
    "    # Create a cursor object\n",
    "    cursor = connection.cursor()\n",
    "\n",
    "    # Define the SQL INSERT statement\n",
    "    insert_query = \"\"\"\n",
    "    INSERT INTO sst_info (id, name, age, department, password)\n",
    "    VALUES (%s, %s, %s, %s);\n",
    "    \"\"\"\n",
    "    \n",
    "    # Data to be inserted\n",
    "    data_to_insert = (1, \"Jamel Ojo\", 20, \"Software Engineering\", \"anthelo4\")\n",
    "\n",
    "    # Execute the SQL statement\n",
    "    cursor.execute(insert_query, data_to_insert)\n",
    "    print(\"Data inserted successfully\")\n",
    "\n",
    "    # Close the cursor and connection\n",
    "    cursor.close()\n",
    "    connection.close()\n",
    "\n",
    "except Exception as error:\n",
    "    print(f\"Error inserting data: {error}\")\n"
   ]
  },
  {
   "cell_type": "markdown",
   "metadata": {},
   "source": [
    "# SELECT from Table"
   ]
  },
  {
   "cell_type": "code",
   "execution_count": 1,
   "metadata": {},
   "outputs": [],
   "source": [
    "import psycopg2\n",
    "\n",
    "# Define your database connection parameters\n",
    "db_params = {\n",
    "    'dbname': 'postgres',\n",
    "    'user': 'postgres',\n",
    "    'password': 'cos101',\n",
    "    'host': 'localhost',\n",
    "    'port': '5432'  # Default is '5432'\n",
    "}\n",
    "\n",
    "try:\n",
    "    # Establish a connection to the database\n",
    "    connection = psycopg2.connect(**db_params)\n",
    "\n",
    "    # Create a cursor object\n",
    "    cursor = connection.cursor()\n",
    "\n",
    "    # Define the SQL query\n",
    "    select_query = \"SELECT FROM sst_info WHERE age < 30\"\n",
    "\n",
    "    # Execute the SQL query\n",
    "    cursor.execute(select_query)\n",
    "\n",
    "    # Fetch all the results\n",
    "    results = cursor.fetchall()\n",
    "\n",
    "    # Print the results\n",
    "    for row in results:\n",
    "        print(row)\n",
    "\n",
    "except Exception as error:\n",
    "    print(f\"Error while connecting to PostgreSQL: {error}\")\n",
    "\n",
    "finally:\n",
    "    # Close the cursor and connection to clean up\n",
    "    if cursor:\n",
    "        cursor.close()\n",
    "    if connection:\n",
    "        connection.close()\n"
   ]
  },
  {
   "cell_type": "markdown",
   "metadata": {},
   "source": [
    "# Class Project I"
   ]
  },
  {
   "cell_type": "markdown",
   "metadata": {},
   "source": [
    "Paystack is a Nigerian financial technology company that offers payment processing services to businesses. As a technology company, Paystack solves payment problems for ambitious businesses. Its mission is to help businesses in Africa become profitable, envied, and loved. They make it easy for businesses to accept secure payments from multiple local and global payment channels. They also provide tools to help you retain and acquire new customers. Currently, Paystack is restructuring the team network. It is a diverse, close-knit team on an adventure to build something enduring while learning something new, every day. \n",
    "\n"
   ]
  },
  {
   "cell_type": "markdown",
   "metadata": {},
   "source": [
    "<img src=\"paystack.jpg\">"
   ]
  },
  {
   "cell_type": "markdown",
   "metadata": {},
   "source": [
    "With your knowledge in python programming develop an application that creates the database named <b>Paystack_Team</b>. <br>The purpose of the application is to enable management to perform the following queries:\n",
    "<ul>\n",
    "    <li>Team Members in Revenue Division</li>\n",
    "    <li>Team Members in Growth and Product Division whose age is greater than 30 years but less than 35 years</li>\n",
    "    <li>Team Members in Modules 1,3 and 5</li>\n",
    "    <li>Team Members in Modules 4 and Product Division</li>\n",
    "</ul>"
   ]
  },
  {
   "cell_type": "markdown",
   "metadata": {},
   "source": []
  },
  {
   "cell_type": "code",
   "execution_count": 2,
   "metadata": {},
   "outputs": [
    {
     "name": "stdout",
     "output_type": "stream",
     "text": [
      "Database created successfully.\n",
      "Error while creating tables: psycopg2.connect() got multiple values for keyword argument 'dbname'\n"
     ]
    },
    {
     "ename": "UnboundLocalError",
     "evalue": "cannot access local variable 'cursor' where it is not associated with a value",
     "output_type": "error",
     "traceback": [
      "\u001b[1;31m---------------------------------------------------------------------------\u001b[0m",
      "\u001b[1;31mUnboundLocalError\u001b[0m                         Traceback (most recent call last)",
      "Cell \u001b[1;32mIn[2], line 141\u001b[0m\n\u001b[0;32m    139\u001b[0m \u001b[38;5;28;01mif\u001b[39;00m \u001b[38;5;18m__name__\u001b[39m \u001b[38;5;241m==\u001b[39m \u001b[38;5;124m\"\u001b[39m\u001b[38;5;124m__main__\u001b[39m\u001b[38;5;124m\"\u001b[39m:\n\u001b[0;32m    140\u001b[0m     create_database()\n\u001b[1;32m--> 141\u001b[0m     create_tables()\n\u001b[0;32m    142\u001b[0m     insert_data()\n\u001b[0;32m    143\u001b[0m     perform_queries()\n",
      "Cell \u001b[1;32mIn[2], line 51\u001b[0m, in \u001b[0;36mcreate_tables\u001b[1;34m()\u001b[0m\n\u001b[0;32m     49\u001b[0m     \u001b[38;5;28mprint\u001b[39m(\u001b[38;5;124mf\u001b[39m\u001b[38;5;124m\"\u001b[39m\u001b[38;5;124mError while creating tables: \u001b[39m\u001b[38;5;132;01m{\u001b[39;00merror\u001b[38;5;132;01m}\u001b[39;00m\u001b[38;5;124m\"\u001b[39m)\n\u001b[0;32m     50\u001b[0m \u001b[38;5;28;01mfinally\u001b[39;00m:\n\u001b[1;32m---> 51\u001b[0m     \u001b[38;5;28;01mif\u001b[39;00m cursor:\n\u001b[0;32m     52\u001b[0m         cursor\u001b[38;5;241m.\u001b[39mclose()\n\u001b[0;32m     53\u001b[0m     \u001b[38;5;28;01mif\u001b[39;00m connection:\n",
      "\u001b[1;31mUnboundLocalError\u001b[0m: cannot access local variable 'cursor' where it is not associated with a value"
     ]
    }
   ],
   "source": [
    "import psycopg2\n",
    "\n",
    "# Define database connection parameters\n",
    "db_params = {\n",
    "    'dbname': 'postgres',\n",
    "    'user': 'postgres',\n",
    "    'password': 'cos101',\n",
    "    'host': 'localhost',\n",
    "    'port': '5432'\n",
    "}\n",
    "\n",
    "# Function to create database\n",
    "def create_database():\n",
    "    try:\n",
    "        connection = psycopg2.connect(**db_params)\n",
    "        connection.autocommit = True\n",
    "        cursor = connection.cursor()\n",
    "        cursor.execute(\"DROP DATABASE IF EXISTS Paystack_Team\")\n",
    "        cursor.execute(\"CREATE DATABASE Paystack_Team\")\n",
    "        print(\"Database created successfully.\")\n",
    "    except Exception as error:\n",
    "        print(f\"Error while creating database: {error}\")\n",
    "    finally:\n",
    "        if cursor:\n",
    "            cursor.close()\n",
    "        if connection:\n",
    "            connection.close()\n",
    "\n",
    "# Function to create tables\n",
    "def create_tables():\n",
    "    try:\n",
    "        connection = psycopg2.connect(dbname='Paystack_Team', **db_params)\n",
    "        cursor = connection.cursor()\n",
    "\n",
    "        create_table_query = '''\n",
    "        CREATE TABLE team_members (\n",
    "            id SERIAL PRIMARY KEY,\n",
    "            name VARCHAR(100),\n",
    "            age INT,\n",
    "            division VARCHAR(100),\n",
    "            module INT\n",
    "        );\n",
    "        '''\n",
    "\n",
    "        cursor.execute(create_table_query)\n",
    "        connection.commit()\n",
    "        print(\"Tables created successfully.\")\n",
    "    except Exception as error:\n",
    "        print(f\"Error while creating tables: {error}\")\n",
    "    finally:\n",
    "        if cursor:\n",
    "            cursor.close()\n",
    "        if connection:\n",
    "            connection.close()\n",
    "\n",
    "# Function to insert data\n",
    "def insert_data():\n",
    "    try:\n",
    "        connection = psycopg2.connect(dbname='Paystack_Team', **db_params)\n",
    "        cursor = connection.cursor()\n",
    "\n",
    "        insert_data_query = '''\n",
    "        INSERT INTO team_members (name, age, division, module) VALUES\n",
    "        ('Oyinda Aina', 32, 'Business', 1),\n",
    "        ('Wale Eseyin', 28, 'Engineering', 3),\n",
    "        ('Khadijah Abu', 30, 'Product', 2),\n",
    "        ('Onyekachi Mbaike', 37, 'Design', 5),\n",
    "        ('Seike Ibojo', 33, 'Growth', 4),\n",
    "        ('Opeimipo Aikomo', 28, 'Design', 1),\n",
    "        ('Ezra Olubi', 30, 'Product', 3),\n",
    "        ('Alexander Fasoro', 35, 'Engineering', 1),\n",
    "        ('Stephen Amaza', 40, 'Growth', 4),\n",
    "        ('Loknan Nanyak', 44, 'Engineering', 5),\n",
    "        ('Ibrahim Lawal', 39, 'Engineering', 4),\n",
    "        ('Fisayo Kolawole', 27, 'Commercial', 2),\n",
    "        ('Emmanuel Quartey', 31, 'Growth', 3),\n",
    "        ('Awatt Bassey', 29, 'Growth', 2),\n",
    "        ('Bolaji Akande', 30, 'Revenue', 4),\n",
    "        ('Mohini Ufeli', 29, 'Growth', 1),\n",
    "        ('King Makanjuola', 31, 'Product', 4),\n",
    "        ('Ijeoma Opara', 26, 'Revenue', 3),\n",
    "        ('Dipo Omobomi', 32, 'Product', 5),\n",
    "        ('Dapo Awobukun', 30, 'Revenue', 1),\n",
    "        ('Charles Idem', 35, 'Engineering', 3),\n",
    "        ('Ayobami Alo', 38, 'Product', 4),\n",
    "        ('Aminat Badara', 30, 'Growth', 2);\n",
    "        '''\n",
    "\n",
    "        cursor.execute(insert_data_query)\n",
    "        connection.commit()\n",
    "        print(\"Data inserted successfully.\")\n",
    "    except Exception as error:\n",
    "        print(f\"Error while inserting data: {error}\")\n",
    "    finally:\n",
    "        if cursor:\n",
    "            cursor.close()\n",
    "        if connection:\n",
    "            connection.close()\n",
    "\n",
    "# Function to perform queries\n",
    "def perform_queries():\n",
    "    try:\n",
    "        connection = psycopg2.connect(dbname='Paystack_Team', **db_params)\n",
    "        cursor = connection.cursor()\n",
    "\n",
    "        # Query 1: Team Members in Revenue Division\n",
    "        cursor.execute(\"SELECT * FROM team_members WHERE division = 'Revenue'\")\n",
    "        print(\"Team Members in Revenue Division:\")\n",
    "        for row in cursor.fetchall():\n",
    "            print(row)\n",
    "\n",
    "        # Query 2: Team Members in Growth and Product Division whose age is greater than 30 years but less than 35 years\n",
    "        cursor.execute(\"SELECT * FROM team_members WHERE (division = 'Growth' OR division = 'Product') AND age > 30 AND age < 35\")\n",
    "        print(\"\\nTeam Members in Growth and Product Division whose age is greater than 30 years but less than 35 years:\")\n",
    "        for row in cursor.fetchall():\n",
    "            print(row)\n",
    "\n",
    "        # Query 3: Team Members in Modules 1, 3 and 5\n",
    "        cursor.execute(\"SELECT * FROM team_members WHERE module IN (1, 3, 5)\")\n",
    "        print(\"\\nTeam Members in Modules 1, 3 and 5:\")\n",
    "        for row in cursor.fetchall():\n",
    "            print(row)\n",
    "\n",
    "        # Query 4: Team Members in Modules 4 and Product Division\n",
    "        cursor.execute(\"SELECT * FROM team_members WHERE module = 4 OR division = 'Product'\")\n",
    "        print(\"\\nTeam Members in Modules 4 and Product Division:\")\n",
    "        for row in cursor.fetchall():\n",
    "            print(row)\n",
    "\n",
    "    except Exception as error:\n",
    "        print(f\"Error while performing queries: {error}\")\n",
    "    finally:\n",
    "        if cursor:\n",
    "            cursor.close()\n",
    "        if connection:\n",
    "            connection.close()\n",
    "\n",
    "# Main execution\n",
    "if __name__ == \"__main__\":\n",
    "    create_database()\n",
    "    create_tables()\n",
    "    insert_data()\n",
    "    perform_queries()\n"
   ]
  },
  {
   "cell_type": "code",
   "execution_count": null,
   "metadata": {},
   "outputs": [],
   "source": []
  }
 ],
 "metadata": {
  "kernelspec": {
   "display_name": "Python 3 (ipykernel)",
   "language": "python",
   "name": "python3"
  },
  "language_info": {
   "codemirror_mode": {
    "name": "ipython",
    "version": 3
   },
   "file_extension": ".py",
   "mimetype": "text/x-python",
   "name": "python",
   "nbconvert_exporter": "python",
   "pygments_lexer": "ipython3",
   "version": "3.11.7"
  }
 },
 "nbformat": 4,
 "nbformat_minor": 4
}
